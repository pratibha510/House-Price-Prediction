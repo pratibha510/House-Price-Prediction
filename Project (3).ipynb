{
 "cells": [
  {
   "cell_type": "markdown",
   "id": "8d465bc1",
   "metadata": {},
   "source": [
    "# STEP 1: Data Preprocessing"
   ]
  },
  {
   "cell_type": "markdown",
   "id": "cfff262f",
   "metadata": {},
   "source": [
    "### Importing the dataset"
   ]
  },
  {
   "cell_type": "code",
   "execution_count": 1,
   "id": "ddc9ac1d",
   "metadata": {},
   "outputs": [],
   "source": [
    "# Importing the libraries \n",
    "import pandas as pd\n",
    "import numpy as np\n",
    "\n",
    "import matplotlib as mpl\n",
    "import matplotlib.pyplot as plt\n",
    "\n",
    "from matplotlib.animation import FuncAnimation\n",
    "\n",
    "from IPython.display import HTML"
   ]
  },
  {
   "cell_type": "code",
   "execution_count": null,
   "id": "54afbccf",
   "metadata": {},
   "outputs": [],
   "source": [
    "# Importing the libraries for Boston Housing dataset\n",
    "from sklearn.datasets import load_boston\n",
    "from sklearn.metrics import mean_squared_error\n",
    "from sklearn.model_selection import train_test_split\n",
    "from sklearn.preprocessing import MinMaxScaler"
   ]
  },
  {
   "cell_type": "code",
   "execution_count": null,
   "id": "f373fe59",
   "metadata": {},
   "outputs": [],
   "source": [
    "#Load the dataset\n",
    "boston = load_boston()\n",
    "\n",
    "#Description of the dataset\n",
    "print(boston.DESCR)"
   ]
  },
  {
   "cell_type": "code",
   "execution_count": null,
   "id": "dd85d641",
   "metadata": {},
   "outputs": [],
   "source": [
    "# Initializing the dataframe\n",
    "features = pd.DataFrame(boston.data, columns=boston.feature_names)\n",
    "features"
   ]
  },
  {
   "cell_type": "code",
   "execution_count": null,
   "id": "2f4d5edd",
   "metadata": {},
   "outputs": [],
   "source": [
    "#Adding target variable to dataframe\n",
    "target = pd.DataFrame(boston.target, columns=['target']) \n",
    "target"
   ]
  },
  {
   "cell_type": "code",
   "execution_count": null,
   "id": "66ea5e3a",
   "metadata": {},
   "outputs": [],
   "source": [
    "max(target['target'])"
   ]
  },
  {
   "cell_type": "code",
   "execution_count": null,
   "id": "ee0840c9",
   "metadata": {},
   "outputs": [],
   "source": [
    "min(target['target'])"
   ]
  },
  {
   "cell_type": "code",
   "execution_count": null,
   "id": "e954a127",
   "metadata": {},
   "outputs": [],
   "source": [
    "#Concatenate Features and target into a single DataFrame\n",
    "#axis=1 makes it concatenate column wise\n",
    "df=pd.concat([features,target], axis=1)\n",
    "df"
   ]
  },
  {
   "cell_type": "markdown",
   "id": "e8d7b622",
   "metadata": {},
   "source": [
    "### Data Visualization"
   ]
  },
  {
   "cell_type": "code",
   "execution_count": null,
   "id": "c3c8c3a4",
   "metadata": {},
   "outputs": [],
   "source": [
    "# Viewing the data statistics\n",
    "df.describe()"
   ]
  },
  {
   "cell_type": "code",
   "execution_count": null,
   "id": "6ceed53d",
   "metadata": {},
   "outputs": [],
   "source": [
    "# Check for missing values\n",
    "df.isnull().sum()"
   ]
  },
  {
   "cell_type": "code",
   "execution_count": null,
   "id": "f9a4a149",
   "metadata": {},
   "outputs": [],
   "source": [
    "# See rows with missing values\n",
    "df[df.isnull().any(axis=1)]"
   ]
  },
  {
   "cell_type": "markdown",
   "id": "5db31b5a",
   "metadata": {},
   "source": [
    "### Correlation between target and attributes"
   ]
  },
  {
   "cell_type": "code",
   "execution_count": null,
   "id": "b152afb0",
   "metadata": {},
   "outputs": [],
   "source": [
    "#calculate correlation between every column on the data\n",
    "corr=df.corr('pearson')\n",
    "\n",
    "#take absolute values of correlations\n",
    "corrs=[abs(corr[attr]['target']) for attr in list(features)]\n",
    "\n",
    "#Make a list of pairs [(corr, feature)]\n",
    "l=list(zip(corrs, list(features)))\n",
    "\n",
    "# Sort the list of pairs in reverse/descending order,with the correlation value as the key for sorting\n",
    "l.sort(key=lambda x: x[0], reverse=True)\n",
    "\n",
    "#\"Unzip\" pairs to two lists\n",
    "# zip(*l)- takes a list that looks like[[a,b,c],[d,e,f],[g,h,i]] and returns [[a,d,g],[b,e,h],[c,f,i]]\n",
    "corrs, labels= list(zip((*l)))\n",
    "\n",
    "# plot correlations with respect to the target variable as a bar graph\n",
    "index=np.arange(len(labels))\n",
    "plt.figure(figsize=(15,5))\n",
    "plt.bar(index, corrs, width=0.5)\n",
    "plt.xlabel('Attributes')\n",
    "plt.ylabel('Correlation with the target variable')\n",
    "plt.xticks(index, labels)\n",
    "plt.show()"
   ]
  },
  {
   "cell_type": "markdown",
   "id": "626f3f19",
   "metadata": {},
   "source": [
    "### Normalization of Data"
   ]
  },
  {
   "cell_type": "code",
   "execution_count": null,
   "id": "2b518aa6",
   "metadata": {},
   "outputs": [],
   "source": [
    "X=df['LSTAT'].values\n",
    "Y=df['target'].values\n",
    "\n",
    "# MinMaxScaler provides a method called Inverse Transform\n",
    "\n",
    "x_scalar=MinMaxScaler()\n",
    "X=x_scalar.fit_transform(X.reshape(-1,1))\n",
    "X=X[:, -1]\n",
    "\n",
    "y_scalar=MinMaxScaler()\n",
    "Y=y_scalar.fit_transform(X.reshape(-1,1))\n",
    "Y=Y[:, -1]"
   ]
  },
  {
   "cell_type": "markdown",
   "id": "60c1d5ed",
   "metadata": {},
   "source": [
    "# STEP 2: Defining the Error"
   ]
  },
  {
   "cell_type": "markdown",
   "id": "083179af",
   "metadata": {},
   "source": [
    "#### MSE - Mean Squared Error"
   ]
  },
  {
   "cell_type": "code",
   "execution_count": null,
   "id": "5d3d3872",
   "metadata": {},
   "outputs": [],
   "source": [
    "# defining the error function\n",
    "def error(m,x,c,t):\n",
    "    N=x.size\n",
    "    e= sum(((m*x+c)-t)**2)\n",
    "    return e*1/(2*N)"
   ]
  },
  {
   "cell_type": "markdown",
   "id": "d96afbaa",
   "metadata": {},
   "source": [
    "# STEP 3: Splitting the Data"
   ]
  },
  {
   "cell_type": "markdown",
   "id": "f00cf772",
   "metadata": {},
   "source": [
    "#### Splitting data into fixed sets"
   ]
  },
  {
   "cell_type": "code",
   "execution_count": null,
   "id": "df6dd3ab",
   "metadata": {},
   "outputs": [],
   "source": [
    "# Splitting to training and testing data\n",
    "xtrain, xtest, ytrain, ytest = train_test_split(X, Y, test_size = 0.2)"
   ]
  },
  {
   "cell_type": "markdown",
   "id": "e42a3014",
   "metadata": {},
   "source": [
    "# STEP 4: Linear Regression / Training the Model"
   ]
  },
  {
   "cell_type": "code",
   "execution_count": null,
   "id": "231d72f1",
   "metadata": {},
   "outputs": [],
   "source": [
    "# defining the update function for gradient descent\n",
    "def update(m,x,c,t,learning_rate):\n",
    "    grad_m=sum(2*((m*x+c)-t)*x)\n",
    "    grad_c=sum(2*((m*x+c)-t))\n",
    "    m=m-grad_m*learning_rate\n",
    "    c=c-grad_c*learning_rate\n",
    "    return m,c"
   ]
  },
  {
   "cell_type": "code",
   "execution_count": null,
   "id": "c70f18b9",
   "metadata": {},
   "outputs": [],
   "source": [
    "# defining the gradient descent function\n",
    "def gradient_descent(init_m, init_c,x,t,learning_rate, iterations, error_threshold):\n",
    "    m=init_m\n",
    "    c=init_c\n",
    "    error_values=list()\n",
    "    mc_values=list()\n",
    "    for i in range(iterations):\n",
    "        e=error(m,x,c,t)\n",
    "        if e<error_threshold:\n",
    "            print('Error less than the threshold. Stopping Gradient Descent')\n",
    "            break\n",
    "        error_values.append(e)\n",
    "        m, c=update(m,x,c,t,learning_rate)\n",
    "        mc_values.append((m,c))\n",
    "    return m, c, error_values, mc_values"
   ]
  },
  {
   "cell_type": "code",
   "execution_count": null,
   "id": "5a66752b",
   "metadata": {},
   "outputs": [],
   "source": [
    "%%time\n",
    "init_m=0.9\n",
    "init_c=0\n",
    "learning_rate=0.001\n",
    "iterations=250\n",
    "error_threshold=0.00001\n",
    "\n",
    "m,c,error_values, mc_values=gradient_descent(init_m, init_c,xtrain,ytrain,learning_rate, iterations, error_threshold)\n"
   ]
  },
  {
   "cell_type": "markdown",
   "id": "419478da",
   "metadata": {},
   "source": [
    "#### Visualization of the Training Model"
   ]
  },
  {
   "cell_type": "code",
   "execution_count": null,
   "id": "208f5adb",
   "metadata": {},
   "outputs": [],
   "source": [
    "mc_values_anim=mc_values[0:250:5]"
   ]
  },
  {
   "cell_type": "code",
   "execution_count": null,
   "id": "c86b3967",
   "metadata": {},
   "outputs": [],
   "source": [
    "fig,ax=plt.subplots()\n",
    "ln,=plt.plot([],[],'ro-',animated=True)\n",
    "\n",
    "def init():\n",
    "    plt.scatter(xtest, ytest, color='g')\n",
    "    ax.set_xlim(0,1.0)\n",
    "    ax.set_ylim(0,1.0)\n",
    "    return ln,\n",
    "\n",
    "def update_frame(frame):\n",
    "    m,c=mc_values_anim[frame]\n",
    "    x1,y1=-0.5, m*-.5+c\n",
    "    x2,y2=1.5, m*1.5+c\n",
    "    ln.set_data([x1,x2],[y1,y2])\n",
    "    return ln,\n",
    "\n",
    "anim=FuncAnimation(fig, update_frame, frames=range(len(mc_values_anim)),init_func=init, blit=True)\n",
    "\n",
    "HTML(anim.to_html5_video())"
   ]
  },
  {
   "cell_type": "markdown",
   "id": "081d66f3",
   "metadata": {},
   "source": [
    "#### Visualization of the Learning Process"
   ]
  },
  {
   "cell_type": "code",
   "execution_count": null,
   "id": "41892cdb",
   "metadata": {},
   "outputs": [],
   "source": [
    "# Plotting the regression line\n",
    "plt.scatter(xtrain, ytrain, color='b')\n",
    "plt.plot(xtrain, (m*xtrain+c), color='r')"
   ]
  },
  {
   "cell_type": "code",
   "execution_count": null,
   "id": "041d7eb1",
   "metadata": {},
   "outputs": [],
   "source": [
    "# Plotting error values\n",
    "plt.plot(np.arange(len(error_values)),error_values)\n",
    "plt.ylabel('Error')\n",
    "plt.xlabel('Iterations')"
   ]
  },
  {
   "cell_type": "markdown",
   "id": "0079ccd8",
   "metadata": {},
   "source": [
    "# STEP 5: Prediction"
   ]
  },
  {
   "cell_type": "code",
   "execution_count": null,
   "id": "7ff88e75",
   "metadata": {},
   "outputs": [],
   "source": [
    "predicted=(m*xtest)+c"
   ]
  },
  {
   "cell_type": "code",
   "execution_count": null,
   "id": "d7137010",
   "metadata": {},
   "outputs": [],
   "source": [
    "mean_squared_error(ytest, predicted)"
   ]
  },
  {
   "cell_type": "code",
   "execution_count": null,
   "id": "d1b499af",
   "metadata": {},
   "outputs": [],
   "source": [
    "p=pd.DataFrame(list(zip(xtest, ytest, predicted)), columns=['x','y_target','predicted_y'])\n",
    "p.head()"
   ]
  },
  {
   "cell_type": "markdown",
   "id": "c8586120",
   "metadata": {},
   "source": [
    "#### Plotting the predicted values against the target values"
   ]
  },
  {
   "cell_type": "code",
   "execution_count": null,
   "id": "9d4ec6da",
   "metadata": {},
   "outputs": [],
   "source": [
    "plt.scatter(xtest, ytest, color='b')\n",
    "plt.plot(xtest, predicted, color='r')"
   ]
  },
  {
   "cell_type": "markdown",
   "id": "fe38dfbf",
   "metadata": {},
   "source": [
    "### Revert normalization to obtain the predicted price in $1000s"
   ]
  },
  {
   "cell_type": "code",
   "execution_count": null,
   "id": "421990d8",
   "metadata": {},
   "outputs": [],
   "source": [
    "predicted=predicted.reshape(-1,1)\n",
    "xtest=xtest.reshape(-1,1)\n",
    "ytest=ytest.reshape(-1,1)\n",
    "\n",
    "xtest_scaled=x_scalar.inverse_transform(xtest)\n",
    "ytest_scaled=y_scalar.inverse_transform(ytest)\n",
    "predicted_scaled=y_scalar.inverse_transform(predicted)\n",
    "\n",
    "xtest_scaled=xtest_scaled[:,-1]\n",
    "ytest_scaled=ytest_scaled[:,-1]\n",
    "predicted_scaled=predicted_scaled[:,-1]\n",
    "\n",
    "p=pd.DataFrame(list(zip(xtest_scaled, ytest_scaled, predicted_scaled)), columns=['x','target_y','predicted_y'])\n",
    "p=p.round(decimals=2)\n",
    "p.head()"
   ]
  },
  {
   "cell_type": "code",
   "execution_count": null,
   "id": "dc5541b7",
   "metadata": {},
   "outputs": [],
   "source": []
  },
  {
   "cell_type": "code",
   "execution_count": null,
   "id": "ad10b30e",
   "metadata": {},
   "outputs": [],
   "source": []
  },
  {
   "cell_type": "code",
   "execution_count": null,
   "id": "989db4ba",
   "metadata": {},
   "outputs": [],
   "source": []
  },
  {
   "cell_type": "code",
   "execution_count": null,
   "id": "33187c33",
   "metadata": {},
   "outputs": [],
   "source": []
  }
 ],
 "metadata": {
  "kernelspec": {
   "display_name": "Python 3",
   "language": "python",
   "name": "python3"
  },
  "language_info": {
   "codemirror_mode": {
    "name": "ipython",
    "version": 3
   },
   "file_extension": ".py",
   "mimetype": "text/x-python",
   "name": "python",
   "nbconvert_exporter": "python",
   "pygments_lexer": "ipython3",
   "version": "3.8.8"
  }
 },
 "nbformat": 4,
 "nbformat_minor": 5
}
